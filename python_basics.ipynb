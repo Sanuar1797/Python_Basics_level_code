{
 "cells": [
  {
   "cell_type": "code",
   "execution_count": 58,
   "metadata": {},
   "outputs": [
    {
     "name": "stdout",
     "output_type": "stream",
     "text": [
      "tripty\n",
      "<class 'str'>\n",
      "Hello Hello Hello Hello \n",
      "Floor value of c,d:  2\n",
      "Remainder of c,d:  -1\n",
      "My name is: Sanuar and my age is: 24\n",
      "True\n"
     ]
    }
   ],
   "source": [
    "#Variables and data types\n",
    "name = \"tripty\"\n",
    "print(name)\n",
    "print(type(name))\n",
    "\n",
    "#Expression Execution\n",
    "a,b = 2, 4\n",
    "text = \"Hello \"\n",
    "print(a * text * (b-2))\n",
    "\n",
    "#Floor\n",
    "c,d = -5, -2\n",
    "e = c//d\n",
    "print(\"Floor value of c,d: \",e)\n",
    "\n",
    "#Remainder\n",
    "re = c%d\n",
    "print(\"Remainder of c,d: \",re)\n",
    "\n",
    "#Input\n",
    "na = input(\"Name: \")\n",
    "age = int(input(\"Age: \"))\n",
    "print(\"My name is:\",na,\"and my age is:\",age)\n",
    "\n",
    "#Boolean (Not>And>Or)\n",
    "bool = not True and False or True\n",
    "print(bool)\n"
   ]
  },
  {
   "cell_type": "code",
   "execution_count": 60,
   "metadata": {},
   "outputs": [
    {
     "name": "stdout",
     "output_type": "stream",
     "text": [
      "Stop\n",
      "B\n"
     ]
    }
   ],
   "source": [
    "#Conditional Statement\n",
    "light = input(\"Light: \")\n",
    "if(light == \"red\"):\n",
    "    print(\"Stop\")\n",
    "elif(light == \"green\"):\n",
    "    print(\"Go\")\n",
    "elif(light == \"yellow\"):\n",
    "    print(\"Look\")\n",
    "else:\n",
    "    print(\"Light is Broken\")\n",
    "    \n",
    "\n",
    "#Grade\n",
    "grade = int(input(\"Marks: \"))\n",
    "if(grade >= 90):\n",
    "    print(\"A+\")\n",
    "elif(grade >= 85 and grade < 90):\n",
    "    print(\"A\")\n",
    "elif(grade >= 80 and grade < 85):\n",
    "    print(\"B+\")\n",
    "elif(grade >= 75 and grade < 80):\n",
    "    print(\"B\")\n",
    "elif(grade >= 70 and grade < 75):\n",
    "    print(\"C+\")\n",
    "elif(grade >= 65 and grade < 70):\n",
    "    print(\"C\")\n",
    "elif(grade >= 60 and grade < 65):\n",
    "    print(\"D+\")\n",
    "elif(grade >= 50 and grade < 60):\n",
    "    print(\"D\")\n",
    "else:\n",
    "    print(\"F\")"
   ]
  },
  {
   "cell_type": "code",
   "execution_count": 62,
   "metadata": {},
   "outputs": [
    {
     "name": "stdout",
     "output_type": "stream",
     "text": [
      "yes\n",
      "Yes\n",
      "Allowed for vote\n",
      "50000 Salary = 10000.0 Tax\n"
     ]
    }
   ],
   "source": [
    "#Single line if (Ternary operator)\n",
    "food = input(\"Food: \")\n",
    "eat = \"yes\" if food == \"cake\" else \"NO\"\n",
    "print(eat)\n",
    "\n",
    "fruit = input(\"Fruit: \")\n",
    "print(\"Yes\") if fruit == \"mango\" else print(\"No\")\n",
    "\n",
    "#Clever if\n",
    "ag = int(input(\"Age:\"))\n",
    "vote = (\"Not Allowed\",\"Allowed\") [ag >= 18] #No is false value and Yes is true value\n",
    "print(vote,\"for vote\")\n",
    "\n",
    "salary = int(input(\"Salary:\"))\n",
    "tax = salary*(.1,.2) [salary>=50000]\n",
    "print(salary,\"Salary =\",tax,\"Tax\")\n"
   ]
  },
  {
   "cell_type": "code",
   "execution_count": 63,
   "metadata": {},
   "outputs": [
    {
     "name": "stdout",
     "output_type": "stream",
     "text": [
      "<class 'int'>\n"
     ]
    }
   ],
   "source": [
    "#Type casting\n",
    "a1 = int(\"2\")\n",
    "print(type(a1))"
   ]
  },
  {
   "cell_type": "code",
   "execution_count": 64,
   "metadata": {},
   "outputs": [
    {
     "name": "stdout",
     "output_type": "stream",
     "text": [
      "This is sanuar \n",
      "age 24 \n",
      "Iam a data \tscientist\n",
      "S\n",
      "Sanu\n",
      "Sanu\n",
      "nuar\n",
      "Sanuar\n",
      "Sanuar\n",
      "Sanu\n",
      "True\n",
      "Iam a coder\n",
      "iam a programmer\n",
      "6\n",
      "1\n"
     ]
    }
   ],
   "source": [
    "#Chapter 2\n",
    "#String and coditional statement\n",
    "#String is a sequence of datatype\n",
    "str = \"This is sanuar \\nage 24 \\nIam a data \\tscientist\" # \\n use for new line, \\t use for tab or space\n",
    "print(str)\n",
    "str1 = \"Sanuar\"\n",
    "print(str1[0])\n",
    "print(str1[0:4])\n",
    "print(str1[:4])\n",
    "print(str1[2:])\n",
    "print(str1[0:len(str1)])\n",
    "print(str1[:len(str1)])\n",
    "print(str1[:-2])\n",
    "\n",
    "str2 = \"iam a coder\"\n",
    "print(str2.endswith(\"er\"))\n",
    "print(str2.capitalize()) # 1st letter will be capital\n",
    "print(str2.replace(\"coder\",\"programmer\"))\n",
    "print(str2.find(\"c\")) #postion of c\n",
    "print(str2.count(\"r\"))"
   ]
  },
  {
   "cell_type": "code",
   "execution_count": 65,
   "metadata": {},
   "outputs": [
    {
     "name": "stdout",
     "output_type": "stream",
     "text": [
      "Yes\n"
     ]
    }
   ],
   "source": [
    "#Nesting condition statement\n",
    "sal = 5000\n",
    "if(sal >= 4000):\n",
    "    if(sal > 5000):\n",
    "        print(\"No\")\n",
    "    else:\n",
    "        print(\"Yes\")\n",
    "else:\n",
    "    print(\"Yes/No\")"
   ]
  },
  {
   "cell_type": "code",
   "execution_count": 74,
   "metadata": {},
   "outputs": [
    {
     "name": "stdout",
     "output_type": "stream",
     "text": [
      "[76, 78, 91, 56, 72]\n",
      "76\n",
      "78\n",
      "91\n",
      "5\n",
      "<class 'list'>\n",
      "['sanuar', 21]\n",
      "[2, 1, 7, 4, 5]\n",
      "[1, 2, 4, 5, 7]\n",
      "[7, 5, 4, 2, 1]\n",
      "[7, 9, 5, 4, 2, 1]\n",
      "[7, 5, 4, 2, 1]\n",
      "[7, 5, 2, 1]\n"
     ]
    }
   ],
   "source": [
    "#Chapter 3 (Lists and tuples)\n",
    "#Lists (Mutable)\n",
    "marks = [76, 78, 91, 56, 72]\n",
    "print(marks)\n",
    "print(marks[0])\n",
    "print(marks[1])\n",
    "print(marks[2])\n",
    "print(len(marks))\n",
    "print(type(marks))\n",
    "\n",
    "id = [\"sanuar\", 21, \"Habigonj\"]\n",
    "id[0]\n",
    "print(id[0:2])\n",
    "\n",
    "list1 = [2,1,7,4]\n",
    "list1.append(5)\n",
    "print(list1)\n",
    "list1.sort()\n",
    "print(list1)\n",
    "list1.sort(reverse=True)\n",
    "print(list1)\n",
    "list1.insert(1,9) # index 1 value will be 9\n",
    "print(list1)\n",
    "list1.remove(9)\n",
    "print(list1)\n",
    "list1.pop(2)\n",
    "print(list1)"
   ]
  },
  {
   "cell_type": "code",
   "execution_count": 75,
   "metadata": {},
   "outputs": [
    {
     "name": "stdout",
     "output_type": "stream",
     "text": [
      "([1, 3, 5], 5, 7, 0, 34, 76, 5, 6, 5, 2, 3, 1, 5)\n",
      "<class 'tuple'>\n",
      "3\n",
      "4\n",
      "['Money heist', '365 Days', 'One night stand']\n",
      "<class 'list'>\n",
      "[1, 3, 1] is Palindrome\n"
     ]
    }
   ],
   "source": [
    "#Tuples (Immutable)\n",
    "tup = ([1,3,5], 5, 7, 0, 34, 76, 5, 6, 5, 2, 3 ,1 ,5)\n",
    "print(tup)\n",
    "print(type(tup))\n",
    "tup[0]\n",
    "print(tup.index(0))\n",
    "print(tup.count(5))\n",
    "\n",
    "#list input from user\n",
    "movie = []\n",
    "movie1 = input(\"Movie 1:\")\n",
    "movie2 = input(\"Movie 2:\")\n",
    "movie3 = input(\"Movie 3:\")\n",
    "movie.append(movie1)\n",
    "movie.append(movie2)\n",
    "movie.append(movie3)\n",
    "print(movie)\n",
    "print(type(movie))\n",
    "\n",
    "#Palindrome \n",
    "list1 = []\n",
    "first = int(input(\"First value:\"))\n",
    "sec = int(input(\"Second value:\"))\n",
    "third = int(input(\"Third value:\"))\n",
    "list1.append(first)\n",
    "list1.append(sec)\n",
    "list1.append(third)\n",
    "copy_list1 = list1.copy() #Copy all value of list1 to the copy_list\n",
    "copy_list1.reverse()\n",
    "\n",
    "if(list1 == copy_list1):\n",
    "    print(list1,\"is Palindrome\")\n",
    "else:\n",
    "    print(list1,\"is not Palindrome\")"
   ]
  },
  {
   "cell_type": "code",
   "execution_count": null,
   "metadata": {},
   "outputs": [],
   "source": [
    "#Dictionary (Mutable)\n",
    "dic = {\n",
    "    \"name\":\"Sanuar\",\n",
    "    \"age\":23,\n",
    "    \"marks\":[90,85,99,96,95]\n",
    "}\n",
    "print(dic)\n",
    "print(type(dic))\n",
    "print(dic[\"name\"])\n",
    "dic[\"surname\"] = \"Hossain\"\n",
    "print(dic)\n",
    "\n",
    "null_diet = {}\n",
    "print(null_diet)\n",
    "print(type(null_diet))\n",
    "null_diet[\"name\"] = \"Banana\"\n",
    "print(null_diet)\n",
    "\n",
    "#Nested Dictionaries\n",
    "student = {\n",
    "    \"name\":\"Sanuar\",\n",
    "    \"ages\":24,\n",
    "    \"subject\":{\n",
    "        \"phy\":97,\n",
    "        \"che\":92,\n",
    "        \"bio\":91\n",
    "    }\n",
    "}\n",
    "print(student)\n",
    "print(student[\"subject\"][\"phy\"])\n",
    "\n",
    "#dictionaries Method\n",
    "print(student.keys())\n",
    "print(list(student.keys()))\n",
    "print(len(student))\n",
    "print(student.values())\n",
    "print(list(student.values()))\n",
    "print(student.items())\n",
    "print(list(student.items()))\n",
    "\n",
    "#dict.get(\"keys\") -->when error available then output will be none\n",
    "print(student.get(\"name2\"))\n",
    "\n",
    "#dict.update(newDict)\n",
    "student.update({\"cgpa\":3.99})\n",
    "print(student)\n",
    "credit = {\"credit\":118}\n",
    "student.update(credit)\n",
    "print(student)"
   ]
  },
  {
   "cell_type": "code",
   "execution_count": 77,
   "metadata": {},
   "outputs": [
    {
     "name": "stdout",
     "output_type": "stream",
     "text": [
      "{1, 2, 3, 4, 5, 6, 8}\n",
      "{1, 2, 'World', 'Hello'}\n",
      "4\n",
      "<class 'set'>\n",
      "{2, 3}\n",
      "{2}\n",
      "{2, (1, 2, 3), 'Sanuar'}\n",
      "2\n",
      "{(1, 2, 3), 'Sanuar'}\n",
      "{1, 2, 3, 4, 5}\n",
      "{3}\n"
     ]
    }
   ],
   "source": [
    "#Set (Unordered, each element unique and immutable)\n",
    "#list and dictionaries can't add in set\n",
    "#bool,int, float, string, tuple are possible to add in set\n",
    "nums = {2,3,5,8,1,2,4,5,6,2,2}\n",
    "print(nums) #Ignore duplicate value\n",
    "collect = {1,2,2,2,\"Hello\", \"World\"}\n",
    "print(collect)\n",
    "print(len(collect))\n",
    "\n",
    "#Empty set\n",
    "coll = set()\n",
    "print(type(coll))\n",
    "\n",
    "#Set methods\n",
    "coll.add(2)\n",
    "coll.add(3)\n",
    "print(coll)\n",
    "coll.remove(3)\n",
    "print(coll)\n",
    "coll.add(\"Sanuar\")\n",
    "coll.add((1,2,3))\n",
    "print(coll)\n",
    "print(coll.pop())\n",
    "print(coll)\n",
    "\n",
    "#Union & intersection method\n",
    "set1 = {1,2,3}\n",
    "set2 = {3,4,5}\n",
    "print(set1.union(set2))\n",
    "print(set1.intersection(set2))"
   ]
  },
  {
   "cell_type": "code",
   "execution_count": 78,
   "metadata": {},
   "outputs": [
    {
     "name": "stdout",
     "output_type": "stream",
     "text": [
      "Hello\n",
      "Hello\n",
      "Hello\n",
      "Hello\n",
      "Hello\n",
      "3\n",
      "6\n",
      "9\n",
      "12\n",
      "15\n",
      "1\n",
      "4\n",
      "9\n",
      "16\n",
      "25\n",
      "36\n",
      "49\n",
      "64\n",
      "81\n",
      "100\n",
      "Found at index: 5\n",
      "1\n",
      "2\n",
      "0\n",
      "1\n",
      "3\n",
      "4\n",
      "5\n",
      "1\n",
      "3\n",
      "5\n",
      "7\n",
      "9\n"
     ]
    }
   ],
   "source": [
    "#Loops\n",
    "#While loops\n",
    "count = 1\n",
    "while count <= 5:\n",
    "    print(\"Hello\")\n",
    "    count+=1\n",
    "    \n",
    "n = 3\n",
    "i = 1\n",
    "while i <= 5:\n",
    "    print(i*n)\n",
    "    i+=1\n",
    "    \n",
    "nums = [1,4,9,16,25,36,49,64,81,100]\n",
    "idx = 0\n",
    "while idx < len(nums):\n",
    "    print(nums[idx])\n",
    "    idx += 1\n",
    "    \n",
    "x = 36\n",
    "i = 0\n",
    "while i < len(nums):\n",
    "    if(nums[i] == x):\n",
    "        print(\"Found at index:\",i)\n",
    "    i += 1 \n",
    "    \n",
    "#Break\n",
    "i = 1\n",
    "while i <= 5:\n",
    "    print(i)\n",
    "    if(i == 2):\n",
    "        break\n",
    "    i += 1 \n",
    "    \n",
    "#Continue\n",
    "i = 0\n",
    "while i<=5:\n",
    "    if(i==2):\n",
    "        i+=1\n",
    "        continue\n",
    "    print(i)\n",
    "    i+=1\n",
    "    \n",
    "#Odd number\n",
    "i = 0\n",
    "while i<=10:\n",
    "    if(i%2 == 0):\n",
    "        i+=1\n",
    "        continue\n",
    "    print(i)\n",
    "    i+=1"
   ]
  },
  {
   "cell_type": "code",
   "execution_count": 79,
   "metadata": {},
   "outputs": [
    {
     "name": "stdout",
     "output_type": "stream",
     "text": [
      "S\n",
      "a\n",
      "n\n",
      "u\n",
      "a\n",
      "r\n",
      "End\n",
      "S\n",
      "'a' found in index:\n",
      "1\n",
      "3\n",
      "5\n",
      "7\n",
      "9\n",
      "...............\n",
      "0\n",
      "1\n",
      "2\n",
      "3\n",
      "4\n",
      ".....................\n",
      "1\n",
      "2\n",
      "3\n",
      "4\n",
      "5\n",
      "6\n",
      "7\n",
      "8\n",
      "9\n",
      "10\n",
      ".................\n",
      "3\n",
      "6\n",
      "9\n",
      "12\n",
      "15\n",
      "18\n",
      "21\n",
      "24\n",
      "27\n",
      "30\n"
     ]
    }
   ],
   "source": [
    "#For loop\n",
    "str = \"Sanuar\"\n",
    "for i in str:\n",
    "    print(i)\n",
    "else:\n",
    "    print(\"End\")\n",
    "    \n",
    "for i in str:\n",
    "    if(i == \"a\"):\n",
    "        print(\"'a' found in index:\")\n",
    "        break\n",
    "    print(i)\n",
    "    \n",
    "#range(start,stop,step)\n",
    "for i in range(1, 10, 2):\n",
    "    print(i)\n",
    "print(\"...............\")\n",
    "  \n",
    "seq = range(5)\n",
    "for i in seq:\n",
    "    print(i)\n",
    "print(\".....................\")\n",
    "\n",
    "for i in range(1,11):\n",
    "    print(i)\n",
    "    \n",
    "print(\".................\")   \n",
    "n=int(input(\"Number:\"))\n",
    "for i in range(1,11):\n",
    "    print(i*n)\n",
    "    "
   ]
  },
  {
   "cell_type": "code",
   "execution_count": 80,
   "metadata": {},
   "outputs": [],
   "source": [
    "#Pass statement(for) --> The 'pass' statement in Python is a placeholder for future code\n",
    "for i in range(5):\n",
    "    pass\n",
    "\n",
    "if i>5:\n",
    "    pass"
   ]
  },
  {
   "cell_type": "code",
   "execution_count": 83,
   "metadata": {},
   "outputs": [
    {
     "name": "stdout",
     "output_type": "stream",
     "text": [
      "5 factorial = 120\n"
     ]
    }
   ],
   "source": [
    "#Calculate Factorial using for loop\n",
    "n = int(input(\"Enter a positive number:\"))\n",
    "fact = 1\n",
    "for i in range(1,n+1):\n",
    "    fact *= i\n",
    "print(n,\"factorial =\",fact)\n",
    "        "
   ]
  },
  {
   "cell_type": "code",
   "execution_count": 84,
   "metadata": {},
   "outputs": [
    {
     "name": "stdout",
     "output_type": "stream",
     "text": [
      "11\n",
      "5\n",
      "3.0\n",
      "Sylhet Dhaka Barishal Chittgong Cumilla Rangpur \n",
      "The factorial of 6 is: 720\n"
     ]
    }
   ],
   "source": [
    "#Function\n",
    "def cal_sum(a,b):\n",
    "    sum = a+b\n",
    "    print(sum)\n",
    "    return sum\n",
    "cal_sum(5,6)\n",
    "\n",
    "def sum2(a,b):\n",
    "    return a+b\n",
    "sum = sum2(2,3)\n",
    "print(sum)\n",
    "\n",
    "def avg(a,b,c):\n",
    "    sum = a+b+c\n",
    "    avg = sum/3\n",
    "    return avg\n",
    "avg = avg(2,3,4)\n",
    "print(avg)\n",
    "\n",
    "cities = [\"Sylhet\",\"Dhaka\",\"Barishal\",\"Chittgong\",\"Cumilla\",\"Rangpur\"]\n",
    "def print_list(list):\n",
    "    for item in list:\n",
    "        print(item,end=\" \")\n",
    "print_list(cities)\n",
    "print()\n",
    "\n",
    "#Find factorial using function\n",
    "def cal_fact(n):\n",
    "    fact = 1\n",
    "    for i in range(1,n+1):\n",
    "        fact *= i\n",
    "    print(\"The factorial of\",n,\"is:\",fact)\n",
    "cal_fact(int(input(\"Enter a value:\")))"
   ]
  },
  {
   "cell_type": "code",
   "execution_count": 85,
   "metadata": {},
   "outputs": [
    {
     "name": "stdout",
     "output_type": "stream",
     "text": [
      "5.0 dollar = 586.5 Taka\n"
     ]
    }
   ],
   "source": [
    "#Convert USD to TK using function\n",
    "def convert(usd_val):\n",
    "    tk = usd_val*117.3\n",
    "    print(usd_val,\"dollar =\",tk,\"Taka\") \n",
    "convert(float(input(\"Enter the value of dollar:\")))"
   ]
  },
  {
   "cell_type": "code",
   "execution_count": 86,
   "metadata": {},
   "outputs": [
    {
     "name": "stdout",
     "output_type": "stream",
     "text": [
      "5\n",
      "4\n",
      "3\n",
      "2\n",
      "1\n",
      "Factorial: 120\n"
     ]
    }
   ],
   "source": [
    "#Recursion (a function call itself repeatedly)\n",
    "def show(n):\n",
    "    if(n==0):\n",
    "        return\n",
    "    print(n)\n",
    "    show(n-1)\n",
    "show(5)\n",
    "\n",
    "def fact(n):\n",
    "    if(n==0 or n==1):\n",
    "        return 1\n",
    "    else:\n",
    "        return n * fact(n-1)\n",
    "print(\"Factorial:\",fact(5))"
   ]
  }
 ],
 "metadata": {
  "kernelspec": {
   "display_name": "base",
   "language": "python",
   "name": "python3"
  },
  "language_info": {
   "codemirror_mode": {
    "name": "ipython",
    "version": 3
   },
   "file_extension": ".py",
   "mimetype": "text/x-python",
   "name": "python",
   "nbconvert_exporter": "python",
   "pygments_lexer": "ipython3",
   "version": "3.11.7"
  }
 },
 "nbformat": 4,
 "nbformat_minor": 2
}
